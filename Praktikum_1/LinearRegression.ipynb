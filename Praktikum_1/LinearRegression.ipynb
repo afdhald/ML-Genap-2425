{
  "nbformat": 4,
  "nbformat_minor": 0,
  "metadata": {
    "colab": {
      "provenance": [],
      "authorship_tag": "ABX9TyMp4vazTiRJyd7McrAdpdbU",
      "include_colab_link": true
    },
    "kernelspec": {
      "name": "python3",
      "display_name": "Python 3"
    },
    "language_info": {
      "name": "python"
    }
  },
  "cells": [
    {
      "cell_type": "markdown",
      "metadata": {
        "id": "view-in-github",
        "colab_type": "text"
      },
      "source": [
        "<a href=\"https://colab.research.google.com/github/afdhald/ML-Genap-2425/blob/main/Praktikum_1/LinearRegression.ipynb\" target=\"_parent\"><img src=\"https://colab.research.google.com/assets/colab-badge.svg\" alt=\"Open In Colab\"/></a>"
      ]
    },
    {
      "cell_type": "markdown",
      "source": [
        "## Overview\n",
        "- Getting the Data\n",
        "- Reviewing Data\n",
        "- Modeling\n",
        "- Model Evaluation\n",
        "- Using Model\n",
        "- Storing Model"
      ],
      "metadata": {
        "id": "HU5ykIafdbxG"
      }
    },
    {
      "cell_type": "markdown",
      "source": [
        "##**Step 1: Import all required libraries**\n",
        "Import library yang diperlukan seperti pandas, numpy, sklearn, dan lainnya"
      ],
      "metadata": {
        "id": "jrNg0w0v1omk"
      }
    },
    {
      "cell_type": "code",
      "source": [
        "import pandas as pd\n",
        "import numpy as np\n",
        "import matplotlib.pyplot as plt\n",
        "from sklearn.preprocessing import MinMaxScaler, PolynomialFeatures\n",
        "from sklearn.model_selection import train_test_split\n",
        "from sklearn.linear_model import LinearRegression\n",
        "from sklearn.metrics import mean_squared_error\n",
        "from sklearn.datasets import fetch_california_housing"
      ],
      "metadata": {
        "id": "hovTjF482Jjr"
      },
      "execution_count": null,
      "outputs": []
    },
    {
      "cell_type": "markdown",
      "source": [
        "##**Step 2: Load Datasets**\n",
        "Banyak datasets yang bisa digunakan, salah satunya adalah California Housing dataset. Mengambil dataset dan menampilkannya bisa dilakukan dengan beberapa cara, mulai dari cara manual hingga dengan menggunakan library. Di antara library yang bisa digunakan untuk load dataset adalah Numpy, Pandas, Pickle, sklearn.datasets, dll.\n",
        "\n",
        "Sekarang kita akan mencoba mencoba untuk load dataset **California Housing** dengan menggunakan library **sklearn.datasets**. Variabel atau fitur dari dataset ini terdiri dari:\n",
        "\n",
        "Target Variable:\n",
        "*   MedHouseVal (Median house value in $100,000s)\n",
        "\n",
        "Predictor Variables:\n",
        "*   MedInc (Median Income)\n",
        "*   HouseAge (Age of the house)\n",
        "*   AveRooms (Average number of rooms per house)\n",
        "*   AveBedRrms (Average number of bedrooms per house)\n",
        "*   AveOccup (Number of working adults per house)\n",
        "*   Population (Population in the area)\n",
        "*   Latitude and Longitude (Geographic coordinates)"
      ],
      "metadata": {
        "id": "4kb7dxCOYxiB"
      }
    },
    {
      "cell_type": "code",
      "source": [
        "from sklearn.datasets import fetch_california_housing\n",
        "housing = fetch_california_housing()\n",
        "df = pd.DataFrame(data= housing.data, columns=housing.feature_names)\n",
        "df['MedHouseValue'] = pd.Series(housing.target)\n",
        "\n",
        "targets=df['MedHouseValue']               #Dependent Variable\n",
        "inputs=df.drop(['MedHouseValue'],axis=1)  #Indendepent Variable\n",
        "df.head()                          # Menampilkan 5 data teratas"
      ],
      "metadata": {
        "id": "7LyO4RUcYTSa"
      },
      "execution_count": null,
      "outputs": []
    },
    {
      "cell_type": "code",
      "source": [
        "# df.describe()                                 # Use the describe() atau info() function to get a description of the data.\n",
        "# df.info()                                     # Use the describe() atau info() function to get a description of the data.\n",
        "print('Dataframe dimension: ', df.shape)      # Mengembalikan tupel yang mewakili dimensionalitas DataFrame."
      ],
      "metadata": {
        "id": "Ew5pdsO8ipOt"
      },
      "execution_count": null,
      "outputs": []
    },
    {
      "cell_type": "markdown",
      "source": [
        "## **Data Preprocessing**\n",
        "Bagi dataset menjadi data training (70%) dan data testing (30%)"
      ],
      "metadata": {
        "id": "kDJCYHFpkdIB"
      }
    },
    {
      "cell_type": "code",
      "source": [
        "X_train, X_test, y_train, y_test = train_test_split(inputs, targets, test_size = 0.3, random_state = 1)\n",
        "print(X_train.shape,X_test.shape)\n",
        "print(y_train.shape,y_test.shape)"
      ],
      "metadata": {
        "id": "sGFEuSK-pEfx"
      },
      "execution_count": null,
      "outputs": []
    },
    {
      "cell_type": "markdown",
      "source": [
        "Lakukan data preprocesing pada data training dan testing dengan mentransformasi semua\n",
        "fitur agar nilainya berada pada selang [0,1]"
      ],
      "metadata": {
        "id": "so8EW1C2vBMA"
      }
    },
    {
      "cell_type": "code",
      "source": [
        "scaler = MinMaxScaler()\n",
        "X_train = scaler.fit_transform(X_train)\n",
        "X_test = scaler.transform(X_test)"
      ],
      "metadata": {
        "id": "0xoajISIn5Am"
      },
      "execution_count": null,
      "outputs": []
    },
    {
      "cell_type": "markdown",
      "source": [
        "## **Modelling**\n",
        "Latih model regresi linier menggunakan semua fitur di data training yang sudah\n",
        "diskalakan.\n",
        "\n",
        "Kemudian tampilkan nilai intercept dan slope variablenya"
      ],
      "metadata": {
        "id": "lBMNgJwmuMTm"
      }
    },
    {
      "cell_type": "code",
      "source": [
        "lr_model = LinearRegression()\n",
        "lr_model.fit(X_train, y_train)"
      ],
      "metadata": {
        "id": "aN-_38mVlQ_T"
      },
      "execution_count": null,
      "outputs": []
    },
    {
      "cell_type": "code",
      "source": [
        "print(f'intercept: {lr_model.intercept_}')\n",
        "print(f'slope: {lr_model.coef_}')"
      ],
      "metadata": {
        "id": "6SaL7D4Qudb8"
      },
      "execution_count": null,
      "outputs": []
    },
    {
      "cell_type": "markdown",
      "source": [
        "## **Model Evaluation**\n",
        "\n",
        "Evaluasi model yang telah dilatih menggunakan data testing dengan menghitung MSE\n",
        "dan 𝑅2 serta plot hubungan antara target output dan hasil prediksinya"
      ],
      "metadata": {
        "id": "8iP_gsHWvMM6"
      }
    },
    {
      "cell_type": "code",
      "source": [
        "y_pred=lr_model.predict(X_test)\n",
        "mse=mean_squared_error(y_test,y_pred)\n",
        "r2=lr_model.score(X_test,y_test)\n",
        "print(f'MSE: {mse}')\n",
        "print(f'R2: {r2}')"
      ],
      "metadata": {
        "id": "C4saZoG5vV3q"
      },
      "execution_count": null,
      "outputs": []
    },
    {
      "cell_type": "code",
      "source": [
        "plt.scatter(y_test,y_pred)\n",
        "plt.xlabel('Actual Values')\n",
        "plt.ylabel('Predicted Values')\n",
        "plt.title('Actual vs Predicted Values')\n",
        "plt.show()"
      ],
      "metadata": {
        "id": "G_qDz61Jvsdg"
      },
      "execution_count": null,
      "outputs": []
    }
  ]
}